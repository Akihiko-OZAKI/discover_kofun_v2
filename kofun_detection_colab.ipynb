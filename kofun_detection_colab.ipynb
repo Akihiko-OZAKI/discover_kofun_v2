{
 "cells": [
  {
   "cell_type": "markdown",
   "metadata": {},
   "source": [
    "# 🗿 古墳検出システム - Google Colab学習版\n",
    "\n",
    "このノートブックでは、実際のGSI画像データを使用して古墳検出モデルを学習します。"
   ]
  },
  {
   "cell_type": "code",
   "execution_count": null,
   "metadata": {},
   "outputs": [],
   "source": [
    "# 1. 必要なライブラリのインストール\n",
    "!pip install torch torchvision\n",
    "!pip install opencv-python\n",
    "!pip install matplotlib\n",
    "!pip install tqdm\n",
    "!pip install PyYAML\n",
    "\n",
    "# 2. YOLOv5のクローン\n",
    "!git clone https://github.com/ultralytics/yolov5\n",
    "%cd yolov5\n",
    "!pip install -r requirements.txt"
   ]
  },
  {
   "cell_type": "code",
   "execution_count": null,
   "metadata": {},
   "outputs": [],
   "source": [
    "# 3. データセットのアップロード\n",
    "from google.colab import files\n",
    "import zipfile\n",
    "import os\n",
    "\n",
    "print("データセットのZIPファイルをアップロードしてください...")\n",
    "uploaded = files.upload()\n",
    "\n",
    "# アップロードされたファイルを展開\n",
    "for filename in uploaded.keys():\n",
    "    if filename.endswith('.zip'):\n",
    "        with zipfile.ZipFile(filename, 'r') as zip_ref:\n",
    "            zip_ref.extractall('./dataset')\n",
    "        print(f"データセットを展開しました: {filename}")"
   ]
  },
  {
   "cell_type": "code",
   "execution_count": null,
   "metadata": {},
   "outputs": [],
   "source": [
    "# 4. データセットの確認\n",
    "import os\n",
    "\n",
    "dataset_dir = './dataset'\n",
    "images_dir = os.path.join(dataset_dir, 'images')\n",
    "labels_dir = os.path.join(dataset_dir, 'labels')\n",
    "\n",
    "print(f"画像ファイル数: {len(os.listdir(images_dir))}")\n",
    "print(f"ラベルファイル数: {len(os.listdir(labels_dir))}")\n",
    "\n",
    "# サンプル画像を表示\n",
    "import matplotlib.pyplot as plt\n",
    "import matplotlib.image as mpimg\n",
    "\n",
    "sample_image = os.path.join(images_dir, os.listdir(images_dir)[0])\n",
    "img = mpimg.imread(sample_image)\n",
    "plt.figure(figsize=(10, 8))\n",
    "plt.imshow(img)\n",
    "plt.title('サンプル画像')\n",
    "plt.axis('off')\n",
    "plt.show()"
   ]
  },
  {
   "cell_type": "code",
   "execution_count": null,
   "metadata": {},
   "outputs": [],
   "source": [
    "# 5. モデル学習の実行\n",
    "!python train.py --img 640 --batch 16 --epochs 50 --data ../dataset/kofun_dataset.yaml --weights yolov5s.pt --cache"
   ]
  },
  {
   "cell_type": "code",
   "execution_count": null,
   "metadata": {},
   "outputs": [],
   "source": [
    "# 6. 学習結果の確認\n",
    "import matplotlib.pyplot as plt\n",
    "from PIL import Image\n",
    "\n",
    "print("📈 学習結果を確認中...")\n",
    "try:\n",
    "    # 学習曲線の表示\n",
    "    results = Image.open('runs/train/exp/results.png')\n",
    "    plt.figure(figsize=(12, 8))\n",
    "    plt.imshow(results)\n",
    "    plt.axis('off')\n",
    "    plt.title('Training Results')\n",
    "    plt.show()\n",
    "except:\n",
    "    print("学習結果の表示に失敗しました")"
   ]
  },
  {
   "cell_type": "code",
   "execution_count": null,
   "metadata": {},
   "outputs": [],
   "source": [
    "# 7. 学習済みモデルのダウンロード\n",
    "from google.colab import files\n",
    "\n",
    "print("💾 学習済みモデルをダウンロード中...")\n",
    "try:\n",
    "    files.download('runs/train/exp/weights/best.pt')\n",
    "    files.download('runs/train/exp/weights/last.pt')\n",
    "    print("✅ モデルファイルのダウンロード完了")\n",
    "except:\n",
    "    print("❌ モデルファイルのダウンロードに失敗しました")\n",
    "\n",
    "print("🎉 学習完了！")"
   ]
  }
 ],
 "metadata": {
  "kernelspec": {
   "display_name": "Python 3",
   "language": "python",
   "name": "python3"
  },
  "language_info": {
   "codemirror_mode": {
    "name": "ipython",
    "version": 3
   },
   "file_extension": ".py",
   "mimetype": "text/x-python",
   "name": "python",
   "nbconvert_exporter": "python",
   "pygments_lexer": "ipython3",
   "version": "3.8.5"
  }
 },
 "nbformat": 4,
 "nbformat_minor": 4
}