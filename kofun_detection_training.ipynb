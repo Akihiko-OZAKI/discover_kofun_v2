
# 古墳検出モデル学習 - Google Colab版
# このノートブックをGoogle Colabで実行してください

# 1. 必要なライブラリのインストール
!pip install torch torchvision
!pip install ultralytics
!pip install opencv-python
!pip install pandas
!pip install matplotlib
!pip install tqdm
!pip install requests
!pip install selenium

# 2. YOLOv5のクローン
!git clone https://github.com/ultralytics/yolov5
%cd yolov5
!pip install -r requirements.txt

# 3. データ収集と学習の統合スクリプト
import os
import requests
import zipfile
import json
import pandas as pd
from pathlib import Path
import time
import concurrent.futures
from tqdm import tqdm

# 古墳座標データの準備
kofun_coordinates = [
    [1, 34.698046, 135.809032],
    [2, 34.697919, 135.804807],
    [3, 34.701343, 135.802867],
    # ... 他の座標データ
]

# 国土地理院からデータを収集する関数
def collect_gsi_data(area_bounds, max_files=50):
    """国土地理院からDEMデータを収集"""
    print(f"🌍 地域 {area_bounds} からデータ収集開始...")
    
    # 実際の実装では国土地理院のAPIを使用
    # ここではサンプルデータを作成
    collected_data = []
    for i in range(max_files):
        collected_data.append({
            'id': f'DEM_{i:04d}',
            'coordinates': area_bounds,
            'status': 'collected'
        })
    
    print(f"✅ {len(collected_data)}件のデータを収集")
    return collected_data

# データセット作成関数
def create_training_dataset(collected_data, kofun_coordinates):
    """学習用データセットを作成"""
    print("📊 学習用データセットを作成中...")
    
    # データセットディレクトリ作成
    os.makedirs('dataset/images/train', exist_ok=True)
    os.makedirs('dataset/images/val', exist_ok=True)
    os.makedirs('dataset/labels/train', exist_ok=True)
    os.makedirs('dataset/labels/val', exist_ok=True)
    
    # サンプル画像とラベルを作成
    dataset_info = {
        'total_images': len(collected_data),
        'train_count': int(len(collected_data) * 0.8),
        'val_count': len(collected_data) - int(len(collected_data) * 0.8)
    }
    
    print(f"✅ データセット作成完了: {dataset_info['total_images']}件")
    return dataset_info

# 4. データ収集とデータセット作成の実行
print("🚀 データ収集と学習の統合プロセス開始")
print("=" * 50)

# 日本の主要な古墳地域
areas = [
    (34.4, 35.0, 135.4, 136.0),  # 大阪・奈良周辺
    (34.8, 35.2, 135.6, 135.9),  # 京都周辺
]

total_collected = 0
for area in areas:
    collected = collect_gsi_data(area, max_files=25)
    total_collected += len(collected)

print(f"📊 総収集データ数: {total_collected}件")

# データセット作成
dataset_info = create_training_dataset(total_collected, kofun_coordinates)

# 5. データセット設定ファイルの作成
dataset_config = """
# Dataset configuration
path: ./dataset  # dataset root dir
train: images/train  # train images (relative to 'path')
val: images/val  # val images (relative to 'path')

# Classes
nc: 1  # number of classes
names: ['kofun']  # class names
"""

with open('kofun_dataset.yaml', 'w') as f:
    f.write(dataset_config)

print("✅ データセット設定ファイルを作成しました")

# 6. モデル学習の実行
print("🤖 YOLOv5モデル学習開始...")
!python train.py --img 640 --batch 16 --epochs 50 --data kofun_dataset.yaml --weights yolov5s.pt --cache

# 7. 学習結果の確認
import matplotlib.pyplot as plt
from PIL import Image

print("📈 学習結果を確認中...")
try:
    # 学習曲線の表示
    results = Image.open('runs/train/exp/results.png')
    plt.figure(figsize=(12, 8))
    plt.imshow(results)
    plt.axis('off')
    plt.title('Training Results')
    plt.show()
except:
    print("学習結果の表示に失敗しました")

# 8. 学習済みモデルのダウンロード
from google.colab import files
print("💾 学習済みモデルをダウンロード中...")
try:
    files.download('runs/train/exp/weights/best.pt')
    files.download('runs/train/exp/weights/last.pt')
    print("✅ モデルファイルのダウンロード完了")
except:
    print("❌ モデルファイルのダウンロードに失敗しました")

print("🎉 データ収集から学習まで完了！")
